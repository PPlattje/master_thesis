{
  "nbformat": 4,
  "nbformat_minor": 0,
  "metadata": {
    "colab": {
      "name": "create_FASTText_embeddings.ipynb",
      "provenance": [],
      "collapsed_sections": [],
      "machine_shape": "hm"
    },
    "kernelspec": {
      "name": "python3",
      "display_name": "Python 3"
    },
    "accelerator": "GPU"
  },
  "cells": [
    {
      "cell_type": "markdown",
      "metadata": {
        "id": "9NFSln4DDCy9",
        "colab_type": "text"
      },
      "source": [
        "Script used to train FastText embeddings from Twitter data"
      ]
    },
    {
      "cell_type": "code",
      "metadata": {
        "id": "3wRNHAU26UDS",
        "colab_type": "code",
        "colab": {}
      },
      "source": [
        "from google.colab import drive\n",
        "drive.mount(\"/content/drive\")"
      ],
      "execution_count": 0,
      "outputs": []
    },
    {
      "cell_type": "code",
      "metadata": {
        "id": "m1OfB_PA6x4l",
        "colab_type": "code",
        "colab": {}
      },
      "source": [
        "!pip install fasttext\n",
        "import fasttext"
      ],
      "execution_count": 0,
      "outputs": []
    },
    {
      "cell_type": "code",
      "metadata": {
        "id": "Z5bg7_ml6SKH",
        "colab_type": "code",
        "colab": {}
      },
      "source": [
        "BASE_PATH =\"drive/My Drive/Colab Notebooks/\"\n",
        "model = fasttext.train_unsupervised(BASE_PATH + 'tweets.txt', model='skipgram', minCount = 1, dim=300)\n",
        "model.save_model(BASE_PATH + \"fasttextmodels/embeddings.bin\")"
      ],
      "execution_count": 0,
      "outputs": []
    }
  ]
}
